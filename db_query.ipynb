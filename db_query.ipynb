{
 "cells": [
  {
   "cell_type": "code",
   "execution_count": 1,
   "metadata": {},
   "outputs": [],
   "source": [
    "from flask import Flask\n",
    "from flask_sqlalchemy import SQLAlchemy\n",
    "from datetime import datetime\n",
    "\n",
    "app = Flask(__name__)\n",
    "app.config['SQLALCHEMY_DATABASE_URI']='sqlite:///site.db'\n",
    "db=SQLAlchemy(app)"
   ]
  },
  {
   "cell_type": "code",
   "execution_count": 2,
   "metadata": {},
   "outputs": [],
   "source": [
    "class User(db.Model):\n",
    "    id = db.Column(db.Integer,primary_key=True)\n",
    "    username=db.Column(db.String(20),unique=True,nullable=False)\n",
    "    email=db.Column(db.String(120),unique=True,nullable=False)\n",
    "    image_file=db.Column(db.String(20),nullable=False,default='default.jpg')\n",
    "    password=db.Column(db.String(60),nullable=False)\n",
    "    posts=db.relationship('Post',backref='author',lazy=True)\n",
    "\n",
    "    def __repr__(self):\n",
    "        return f\"User('{self.username}', '{self.email}','{self.image_file}')\"\n",
    "\n",
    "class Post(db.Model):\n",
    "    id = db.Column(db.Integer,primary_key=True)\n",
    "    title=db.Column(db.String(100),nullable=False)\n",
    "    date_posted=db.Column(db.DateTime(100),nullable=False,default=datetime.utcnow)\n",
    "    content=db.Column(db.Text, nullable=False)\n",
    "    user_id=db.Column(db.Integer, db.ForeignKey('user.id'),nullable=False)\n",
    "\n",
    "    def __repr__(self):\n",
    "        return f\"Post('{self.title}', '{self.date_posted}')\"\n",
    "  \n",
    "with app.app_context():\n",
    "    db.create_all() #to create all the databases written"
   ]
  },
  {
   "cell_type": "code",
   "execution_count": 3,
   "metadata": {},
   "outputs": [],
   "source": [
    "with app.app_context():\n",
    "    user_1=User(username='Corey', email='corey@gmail.com',password='xyz123')\n",
    "    user_2=User(username='Nikhil', email='n@demo.com',password='password123')\n",
    "    db.session.add(user_1)\n",
    "    db.session.add(user_2)\n",
    "    db.session.commit()\n",
    "    User.query.all()\n"
   ]
  },
  {
   "cell_type": "code",
   "execution_count": null,
   "metadata": {},
   "outputs": [
    {
     "name": "stdout",
     "output_type": "stream",
     "text": [
      "Tables: [('user',), ('post',)]\n"
     ]
    }
   ],
   "source": [
    "import sqlite3\n",
    "\n",
    "conn = sqlite3.connect('instance/site.db')\n",
    "cursor = conn.cursor()\n",
    "cursor.execute(\"SELECT name FROM sqlite_master WHERE type='table';\")\n",
    "print(\"Tables:\", cursor.fetchall())"
   ]
  },
  {
   "cell_type": "code",
   "execution_count": 5,
   "metadata": {},
   "outputs": [
    {
     "name": "stdout",
     "output_type": "stream",
     "text": [
      "Users: [(1, 'Corey', 'corey@gmail.com', 'default.jpg', 'xyz123'), (2, 'Nikhil', 'n@demo.com', 'default.jpg', 'password123')]\n"
     ]
    }
   ],
   "source": [
    "cursor.execute(\"SELECT * FROM user;\")\n",
    "print(\"Users:\", cursor.fetchall())\n",
    "conn.close()"
   ]
  },
  {
   "cell_type": "code",
   "execution_count": 7,
   "metadata": {},
   "outputs": [
    {
     "name": "stdout",
     "output_type": "stream",
     "text": [
      "[User('Corey', 'corey@gmail.com','default.jpg'), User('Nikhil', 'n@demo.com','default.jpg')]\n"
     ]
    }
   ],
   "source": [
    "with app.app_context():\n",
    "    print(User.query.all())"
   ]
  },
  {
   "cell_type": "code",
   "execution_count": null,
   "metadata": {},
   "outputs": [
    {
     "name": "stdout",
     "output_type": "stream",
     "text": [
      "User('Corey', 'corey@gmail.com','default.jpg')\n",
      "1\n",
      "User('Corey', 'corey@gmail.com','default.jpg')\n",
      "[]\n"
     ]
    },
    {
     "name": "stderr",
     "output_type": "stream",
     "text": [
      "/var/folders/7g/209gbg0j0412bwzz146673gr0000gn/T/ipykernel_70558/4145014109.py:6: LegacyAPIWarning: The Query.get() method is considered legacy as of the 1.x series of SQLAlchemy and becomes a legacy construct in 2.0. The method is now available as Session.get() (deprecated since: 2.0) (Background on SQLAlchemy 2.0 at: https://sqlalche.me/e/b8d9)\n",
      "  user=User.query.get(1)\n"
     ]
    }
   ],
   "source": [
    "with app.app_context():\n",
    "    print(User.query.filter_by(username='Corey').first())\n",
    "    user=User.query.filter_by(username='Corey').first()\n",
    "    print(user.id)\n",
    "\n",
    "    user=User.query.get(1)\n",
    "    # print(user)\n",
    "    print(user.posts)"
   ]
  },
  {
   "cell_type": "code",
   "execution_count": 13,
   "metadata": {},
   "outputs": [
    {
     "name": "stderr",
     "output_type": "stream",
     "text": [
      "/var/folders/7g/209gbg0j0412bwzz146673gr0000gn/T/ipykernel_70558/3898243153.py:2: LegacyAPIWarning: The Query.get() method is considered legacy as of the 1.x series of SQLAlchemy and becomes a legacy construct in 2.0. The method is now available as Session.get() (deprecated since: 2.0) (Background on SQLAlchemy 2.0 at: https://sqlalche.me/e/b8d9)\n",
      "  user=User.query.get(1)\n"
     ]
    }
   ],
   "source": [
    "with app.app_context():\n",
    "    user=User.query.get(1)\n",
    "    post_1=Post(title='Blog 1', content='the content of blog 1',user_id=user.id)\n",
    "    post_2=Post(title='Blog 2', content='the content of blog 2',user_id=user.id)\n",
    "\n",
    "    db.session.add(post_1)\n",
    "    db.session.add(post_2)\n",
    "    db.session.commit()"
   ]
  },
  {
   "cell_type": "code",
   "execution_count": 19,
   "metadata": {},
   "outputs": [
    {
     "name": "stdout",
     "output_type": "stream",
     "text": [
      "[Post('Blog 1', '2025-03-12 13:33:23.148325'), Post('Blog 2', '2025-03-12 13:33:23.148334')]\n",
      "1\n",
      "User('Corey', 'corey@gmail.com','default.jpg')\n"
     ]
    },
    {
     "name": "stderr",
     "output_type": "stream",
     "text": [
      "/var/folders/7g/209gbg0j0412bwzz146673gr0000gn/T/ipykernel_70558/861299812.py:2: LegacyAPIWarning: The Query.get() method is considered legacy as of the 1.x series of SQLAlchemy and becomes a legacy construct in 2.0. The method is now available as Session.get() (deprecated since: 2.0) (Background on SQLAlchemy 2.0 at: https://sqlalche.me/e/b8d9)\n",
      "  user=User.query.get(1)\n"
     ]
    }
   ],
   "source": [
    "with app.app_context():\n",
    "    user=User.query.get(1)\n",
    "    print(user.posts)\n",
    "    post=Post.query.first()\n",
    "    print(post.user_id)\n",
    "    print(post.author)"
   ]
  },
  {
   "cell_type": "code",
   "execution_count": 21,
   "metadata": {},
   "outputs": [],
   "source": [
    "with app.app_context():\n",
    "    db.drop_all()#delete all the tables\n",
    "    db.create_all()"
   ]
  },
  {
   "cell_type": "code",
   "execution_count": 22,
   "metadata": {},
   "outputs": [],
   "source": [
    "with app.app_context():\n",
    "    User.query.all()"
   ]
  },
  {
   "cell_type": "code",
   "execution_count": null,
   "metadata": {},
   "outputs": [],
   "source": []
  }
 ],
 "metadata": {
  "kernelspec": {
   "display_name": "osint",
   "language": "python",
   "name": "python3"
  },
  "language_info": {
   "codemirror_mode": {
    "name": "ipython",
    "version": 3
   },
   "file_extension": ".py",
   "mimetype": "text/x-python",
   "name": "python",
   "nbconvert_exporter": "python",
   "pygments_lexer": "ipython3",
   "version": "3.13.2"
  }
 },
 "nbformat": 4,
 "nbformat_minor": 2
}
